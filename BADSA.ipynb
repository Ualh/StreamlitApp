{
 "cells": [
  {
   "cell_type": "code",
   "execution_count": 3,
   "id": "deb069ae-e910-424e-8ce5-4c955deeed2b",
   "metadata": {},
   "outputs": [
    {
     "name": "stdout",
     "output_type": "stream",
     "text": [
      "Requirement already satisfied: xgboost in c:\\users\\david\\anaconda3\\lib\\site-packages (1.6.0)\n",
      "Requirement already satisfied: numpy in c:\\users\\david\\anaconda3\\lib\\site-packages (from xgboost) (1.20.1)\n",
      "Requirement already satisfied: scipy in c:\\users\\david\\anaconda3\\lib\\site-packages (from xgboost) (1.6.2)\n",
      "<class 'pandas.core.frame.DataFrame'>\n",
      "Int64Index: 2160 entries, 0 to 2239\n",
      "Data columns (total 12 columns):\n",
      " #   Column               Non-Null Count  Dtype  \n",
      "---  ------               --------------  -----  \n",
      " 0   Income               2160 non-null   float64\n",
      " 1   MntWines             2160 non-null   int64  \n",
      " 2   MntFruits            2160 non-null   int64  \n",
      " 3   MntMeatProducts      2160 non-null   int64  \n",
      " 4   MntFishProducts      2160 non-null   int64  \n",
      " 5   MntSweetProducts     2160 non-null   int64  \n",
      " 6   MntGoldProds         2160 non-null   int64  \n",
      " 7   NumDealsPurchases    2160 non-null   int64  \n",
      " 8   NumWebPurchases      2160 non-null   int64  \n",
      " 9   NumCatalogPurchases  2160 non-null   int64  \n",
      " 10  NumStorePurchases    2160 non-null   int64  \n",
      " 11  Age                  2160 non-null   int64  \n",
      "dtypes: float64(1), int64(11)\n",
      "memory usage: 219.4 KB\n"
     ]
    }
   ],
   "source": [
    "!pip install xgboost\n",
    "import pandas as pd \n",
    "import numpy as np \n",
    "import matplotlib.pyplot as plt\n",
    "import statsmodels.api as sm\n",
    "from sklearn.model_selection import train_test_split \n",
    "from sklearn.metrics import roc_auc_score \n",
    "from sklearn.tree import DecisionTreeClassifier\n",
    "from sklearn.tree import DecisionTreeRegressor\n",
    "from sklearn.impute import KNNImputer\n",
    "from sklearn.model_selection import train_test_split, GridSearchCV\n",
    "from sklearn.metrics import classification_report\n",
    "from sklearn.ensemble import RandomForestClassifier\n",
    "from sklearn.ensemble import RandomForestRegressor\n",
    "from sklearn.metrics import roc_curve\n",
    "from sklearn.metrics import roc_auc_score\n",
    "from sklearn.metrics import mean_squared_error\n",
    "from sklearn.metrics import mean_absolute_percentage_error\n",
    "from xgboost import XGBClassifier\n",
    "from xgboost import XGBRegressor\n",
    "import pickle\n",
    "\n",
    "dataset = pd.read_csv(\"Data.csv\", sep =\"\\t\")\n",
    "dataset[\"Age\"] = 2022 - dataset[\"Year_Birth\"]\n",
    "dataset = dataset.drop([\"Year_Birth\",\"ID\",\"Education\",\"Marital_Status\",\"AcceptedCmp1\",\"AcceptedCmp2\",\"AcceptedCmp3\",\"AcceptedCmp4\",\"AcceptedCmp5\",\"Z_CostContact\",\"Z_Revenue\",\"Response\",\"Dt_Customer\",\"NumWebVisitsMonth\",\"Complain\",\"Recency\", \"Teenhome\",\"Kidhome\"], axis=1)\n",
    "dataset = dataset[dataset[\"Income\"].between(15000, 200000)]\n",
    "dataset = dataset[dataset[\"Age\"].between(18,100)]\n",
    "dataset = dataset.fillna(0)\n",
    "dataset.info()\n",
    "\n",
    "\n",
    "def actual_vs_predicted_plot(y_true, y_pred):\n",
    "    import numpy as np\n",
    "    import matplotlib.pyplot as plt\n",
    "    min_value=np.array([np.array(y_true.min()), y_pred.min()]).min()\n",
    "    max_value=np.array([np.array(y_true.max()), y_pred.max()]).max()\n",
    "    fig, ax = plt.subplots(figsize=(10,5))\n",
    "    ax.scatter(y_true,y_pred, color= \"crimson\")\n",
    "    ax.plot([min_value,max_value], [min_value, max_value], lw=4, color=\"Black\")\n",
    "    ax.set_title(\"Actual vs Predicted Plot\")\n",
    "    ax.set_xlabel('Actual')\n",
    "    ax.set_ylabel('Predicted')"
   ]
  },
  {
   "cell_type": "code",
   "execution_count": 8,
   "id": "5a3250e5-73c4-4992-abef-57624a8afea2",
   "metadata": {},
   "outputs": [
    {
     "name": "stdout",
     "output_type": "stream",
     "text": [
      "7117.69882515182 0.11453295235871368\n"
     ]
    },
    {
     "data": {
      "image/png": "[encoded data removed]",
      "text/plain": [
       "<Figure size 720x360 with 1 Axes>"
      ]
     },
     "metadata": {
      "needs_background": "light"
     },
     "output_type": "display_data"
    }
   ],
   "source": [
    "y = dataset[\"Income\"]\n",
    "X = dataset.drop([\"Income\"], axis=1)\n",
    "X_train, X_test, y_train, y_test = train_test_split(X, y, test_size = 0.05) "
   ]
  },
  {
   "cell_type": "code",
   "execution_count": null,
   "id": "a470daf8-a2b0-4e9a-a223-8ccb06656837",
   "metadata": {},
   "outputs": [],
   "source": [
    "regforestGS = RandomForestRegressor(n_estimators = 2000).fit(X_train,y_train)\n",
    "\n",
    "params = { 'max_depth': range(1,20),\n",
    "           'n_estimators': range(0, 2000, 100)}\n",
    "\n",
    "improved2 = GridSearchCV(regforestGS, params, cv=5)\n",
    "\n",
    "improved2.fit(X_train, y_train)\n",
    "improved2.best_params_"
   ]
  },
  {
   "cell_type": "code",
   "execution_count": null,
   "id": "afb43003-6a05-4d4e-ac49-0728eaa5b23b",
   "metadata": {},
   "outputs": [],
   "source": [
    "regforest = RandomForestRegressor(random_state=1, max_depth = 17, n_estimators = 500).fit(X_train,y_train)\n",
    "\n",
    "predicitons = regforest.predict(X_test)\n",
    "\n",
    "print(mean_squared_error(y_test, predicitons, squared=False), mean_absolute_percentage_error(y_test, predicitons))\n",
    "actual_vs_predicted_plot(y_test, predicitons)"
   ]
  },
  {
   "cell_type": "code",
   "execution_count": 4,
   "id": "0bbc2bdc-9d46-4eab-b1a9-56839dc1b14e",
   "metadata": {},
   "outputs": [],
   "source": [
    "filename = 'finalized_extended_income_model.sav'\n",
    "pickle.dump(regforest, open(filename, 'wb'))"
   ]
  },
  {
   "cell_type": "code",
   "execution_count": 5,
   "id": "c3e3cac0-6973-42a8-afdf-9bf6cec14d1b",
   "metadata": {},
   "outputs": [
    {
     "data": {
      "text/plain": [
       "array([67411.87816286, 75408.04785126, 25842.16      , 68647.24718048,\n",
       "       38470.10741162, 47701.6996518 , 59459.16257202, 57018.34381552,\n",
       "       32146.69827501, 65813.94359167, 88965.43      , 61657.48362667,\n",
       "       63416.50733333, 68484.95320792, 31690.45390324, 21615.32032294,\n",
       "       27381.44639649, 77744.71473159, 24090.12239603, 55579.46130556,\n",
       "       38657.99908206, 47031.17655654, 77036.9197644 , 60209.93345455,\n",
       "       79581.3135788 , 34724.50873318, 78604.36368078, 23271.34766667,\n",
       "       43397.22230094, 51146.25939947, 75919.54670413, 29650.1222513 ,\n",
       "       29324.39818869, 45532.19831168, 70179.98760489, 64850.09073777,\n",
       "       55260.47565294, 65030.33610094, 78177.33510579, 78475.47286354,\n",
       "       61168.77356605, 77561.68166298, 52270.666     , 58495.91829021,\n",
       "       33346.4332998 , 25639.16465079, 44718.41967908, 60364.1317381 ,\n",
       "       76813.69262103, 73822.62038095, 70612.67462235, 72596.94548095,\n",
       "       70010.9805442 , 48121.76560608, 66096.68865162, 34724.98489869,\n",
       "       37610.82197897, 74952.75263381, 43299.63246276, 27669.27366667,\n",
       "       28071.84552564, 61803.16291264, 39913.47741071, 78740.83897569,\n",
       "       43481.67235781, 23549.69005433, 75675.40798442, 58143.21414239,\n",
       "       66458.35700878, 58211.22848838, 32925.61250341, 51975.16905355,\n",
       "       27617.11719573, 45806.12872456, 45487.37311978, 59066.18352703,\n",
       "       67102.32339109, 38979.15650926, 44406.79581743, 61884.09038819,\n",
       "       72655.4401668 , 73247.97540018, 67802.73030556, 52056.3128542 ,\n",
       "       79471.22985471, 74891.71320291, 55273.80914062, 74274.81777679,\n",
       "       74029.53348188, 41110.02215574, 71790.40752618, 71209.8196    ,\n",
       "       95750.73711111, 53413.68654701, 62181.87005007, 63785.82032641,\n",
       "       43397.22230094, 28610.72395   , 30113.3469533 , 78665.13923987,\n",
       "       75806.07570432, 31849.32174628, 30688.27475569, 34604.35755569,\n",
       "       71837.21877024, 61168.77356605, 82303.62733225, 64021.54588189])"
      ]
     },
     "execution_count": 5,
     "metadata": {},
     "output_type": "execute_result"
    }
   ],
   "source": [
    "dataset.loc[X_train.index,:].to_csv(\"data.csv\", index=False)\n",
    "dataset.loc[X_test.index,:].drop(\"Income\", axis=1).to_csv(\"guineapigs.csv\", index=False)\n",
    "\n",
    "guinea_pigs = pd.read_csv(\"guineapigs.csv\")\n",
    "\n",
    "loaded_model = pickle.load(open(filename, 'rb'))\n",
    "loaded_model.predict(guinea_pigs)"
   ]
  }
 ],
 "metadata": {
  "kernelspec": {
   "display_name": "Python 3",
   "language": "python",
   "name": "python3"
  },
  "language_info": {
   "codemirror_mode": {
    "name": "ipython",
    "version": 3
   },
   "file_extension": ".py",
   "mimetype": "text/x-python",
   "name": "python",
   "nbconvert_exporter": "python",
   "pygments_lexer": "ipython3",
   "version": "3.8.8"
  }
 },
 "nbformat": 4,
 "nbformat_minor": 5
}
